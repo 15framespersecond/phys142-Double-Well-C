{
 "cells": [
  {
   "cell_type": "markdown",
   "metadata": {},
   "source": [
    "# Double Well Potential with MCMC\n",
    "Consider the double well potential,\n",
    "\n",
    "$$V(x)=\\alpha x^4-2x^2+\\frac{1}{\\alpha}$$\n",
    "\n",
    "where $x$ is the position of the particle, and we set $m=\\hbar=1$ and $\\alpha= 0.4$. See Refs. [1, 2] for discussions of similar problems.\n",
    "\n",
    "Use the path integral formulation with imaginary time $\\tau$,\n",
    "\n",
    "$$Z = \\int\\mathcal{D}x(\\tau)\\text{exp}\\left[ -\\frac{1}{\\hbar}\\oint^{\\tau_b}_0L_E(x(\\tau))d\\tau \\right ]$$\n",
    "\n",
    "$$=\\lim_{\\delta\\tau\\to 0}\\int\\ldots\\int dx_0 \\ldots dx_{N-1} \\left ( \\frac{2\\pi\\hbar\\delta\\tau}{m}\\right )^{-\\frac{N}{2}}\\text{exp} \\left[-\\frac{1}{\\hbar}\\left (\\sum^N_{i=1}\\frac{m(x_i-x_{i-1})^2}{2\\delta\\tau} + \\delta\\tau V\\left( \\frac{x_{i-1}+x_i}{2}\\right) \\right) \\right ]$$\n",
    "\n",
    "where $L_E(x(\\tau))=\\frac{m}{2}\\left( \\frac{dx}{dt}\\right)^2 + V(x(\\tau))$ is the Euclidean Lagrangian, imaginary time is discretized with $N$ increments, $\\tau_a=0$, and $\\tau_b= N\\delta\\tau = \\hbar\\beta$. So the probability of a given path $(x_0, x_1, \\ldots , x_{N−1})$ is\n",
    "\n",
    "$$p(x_0, \\ldots , x_{N−1})\\propto \\text{exp} \\left [-\\frac{1}{\\hbar}\\left( \\sum^N_{i=1}\\frac{m(x_i-x_{i-1})^2}{2\\eta} + \\eta V\\left( \\frac{x_{i-1}+x_i}{2}\\right)       \\right) \\right ]$$"
   ]
  },
  {
   "cell_type": "markdown",
   "metadata": {},
   "source": [
    "## Problem A\n",
    "Evaluate the ground state energy and probability distribution of the particle using Markov\n",
    "chain Monte Carlo with the Metropolis-Hastings algorithm in the large-τb (imaginary time) limit. Describe\n",
    "your strategy for determining τ, the initial configuration, burn-in steps, hit size, number of sweeps, and\n",
    "thinning (if any)."
   ]
  },
  {
   "cell_type": "markdown",
   "metadata": {},
   "source": [
    "## Problem B\n",
    "Plot the ground state probability distribution and compare it with the expected form."
   ]
  },
  {
   "cell_type": "markdown",
   "metadata": {},
   "source": [
    "## Problem C\n",
    "Calculate the energy and probability distribution of the particle from the same simulation\n",
    "code for a smaller value of τb. What is the expected probability distribution in this case? What does this\n",
    "correspond to in terms of a statistical mechanics interpretation?"
   ]
  }
 ],
 "metadata": {
  "kernelspec": {
   "display_name": "Python 3",
   "language": "python",
   "name": "python3"
  },
  "language_info": {
   "codemirror_mode": {
    "name": "ipython",
    "version": 3
   },
   "file_extension": ".py",
   "mimetype": "text/x-python",
   "name": "python",
   "nbconvert_exporter": "python",
   "pygments_lexer": "ipython3",
   "version": "3.11.5"
  }
 },
 "nbformat": 4,
 "nbformat_minor": 2
}
